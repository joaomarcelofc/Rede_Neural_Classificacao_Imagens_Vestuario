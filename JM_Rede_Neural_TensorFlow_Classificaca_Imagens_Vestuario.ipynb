{
  "nbformat": 4,
  "nbformat_minor": 0,
  "metadata": {
    "colab": {
      "provenance": []
    },
    "kernelspec": {
      "name": "python3",
      "display_name": "Python 3"
    },
    "language_info": {
      "name": "python"
    }
  },
  "cells": [
    {
      "cell_type": "markdown",
      "source": [
        "# Mini Projeto - Rede Neural com TensorFlow Para Classificação de Imagens de Vestuário"
      ],
      "metadata": {
        "id": "fDP7kIGQTDzD"
      }
    },
    {
      "cell_type": "markdown",
      "source": [
        "Neste projeto vamos construir uma rede neural artificial com TensorFlow para classificação de imagens, especificamente classificação de imagens de roupas e acessórios."
      ],
      "metadata": {
        "id": "Y1AvnsloTMjF"
      }
    },
    {
      "cell_type": "markdown",
      "source": [
        "## Instalando e carregando os pacotes"
      ],
      "metadata": {
        "id": "0EMgQm_lUmCi"
      }
    },
    {
      "cell_type": "code",
      "source": [
        "# Instala o pacote watermark.\n",
        "# Esse pacote é usado para gravar as versões de outros pacotes usados neste jupyter notebook.\n",
        "!pip install -q -U watermark"
      ],
      "metadata": {
        "colab": {
          "base_uri": "https://localhost:8080/"
        },
        "id": "-FMVuyMOUo3I",
        "outputId": "620947c2-84de-4f40-983e-b3f3bc721f0d"
      },
      "execution_count": 1,
      "outputs": [
        {
          "output_type": "stream",
          "name": "stdout",
          "text": [
            "\u001b[?25l     \u001b[90m━━━━━━━━━━━━━━━━━━━━━━━━━━━━━━━━━━━━━━━━\u001b[0m \u001b[32m0.0/1.6 MB\u001b[0m \u001b[31m?\u001b[0m eta \u001b[36m-:--:--\u001b[0m\r\u001b[2K     \u001b[91m━\u001b[0m\u001b[91m╸\u001b[0m\u001b[90m━━━━━━━━━━━━━━━━━━━━━━━━━━━━━━━━━━━━━━\u001b[0m \u001b[32m0.1/1.6 MB\u001b[0m \u001b[31m2.1 MB/s\u001b[0m eta \u001b[36m0:00:01\u001b[0m\r\u001b[2K     \u001b[91m━━━━━━━━━\u001b[0m\u001b[90m╺\u001b[0m\u001b[90m━━━━━━━━━━━━━━━━━━━━━━━━━━━━━━\u001b[0m \u001b[32m0.4/1.6 MB\u001b[0m \u001b[31m5.5 MB/s\u001b[0m eta \u001b[36m0:00:01\u001b[0m\r\u001b[2K     \u001b[91m━━━━━━━━━━━━━━━━━\u001b[0m\u001b[91m╸\u001b[0m\u001b[90m━━━━━━━━━━━━━━━━━━━━━━\u001b[0m \u001b[32m0.7/1.6 MB\u001b[0m \u001b[31m6.7 MB/s\u001b[0m eta \u001b[36m0:00:01\u001b[0m\r\u001b[2K     \u001b[91m━━━━━━━━━━━━━━━━━━━━━━━━━━━\u001b[0m\u001b[91m╸\u001b[0m\u001b[90m━━━━━━━━━━━━\u001b[0m \u001b[32m1.1/1.6 MB\u001b[0m \u001b[31m7.7 MB/s\u001b[0m eta \u001b[36m0:00:01\u001b[0m\r\u001b[2K     \u001b[91m━━━━━━━━━━━━━━━━━━━━━━━━━━━━━━━━━━━━━━━\u001b[0m\u001b[90m╺\u001b[0m \u001b[32m1.5/1.6 MB\u001b[0m \u001b[31m8.7 MB/s\u001b[0m eta \u001b[36m0:00:01\u001b[0m\r\u001b[2K     \u001b[90m━━━━━━━━━━━━━━━━━━━━━━━━━━━━━━━━━━━━━━━━\u001b[0m \u001b[32m1.6/1.6 MB\u001b[0m \u001b[31m7.6 MB/s\u001b[0m eta \u001b[36m0:00:00\u001b[0m\n",
            "\u001b[?25h"
          ]
        }
      ]
    },
    {
      "cell_type": "code",
      "source": [
        "# Imports\n",
        "import os\n",
        "import numpy as np\n",
        "import pandas as pd\n",
        "import tensorflow as tf\n",
        "from tensorflow import keras\n",
        "\n",
        "# Configuração de gráficos\n",
        "%matplotlib inline\n",
        "import matplotlib as mpl\n",
        "import matplotlib.pyplot as plt\n",
        "mpl.rc('axes', labelsize=14)\n",
        "mpl.rc('xtick', labelsize=12)\n",
        "mpl.rc('ytick', labelsize=12)\n",
        "\n",
        "# Para tornar a saída deste notebook estável em todas as execuções\n",
        "np.random.seed(42)\n",
        "tf.random.set_seed(42)"
      ],
      "metadata": {
        "id": "COHCSgsIUo54"
      },
      "execution_count": 2,
      "outputs": []
    },
    {
      "cell_type": "code",
      "source": [
        "# Aqui definimos os diretórios onde salvaremos as imagens\n",
        "PROJECT_ROOT_DIR = \".\"\n",
        "PROJECT_NUM = \"Mini-Projeto5\"\n",
        "IMAGES_PATH = os.path.join(PROJECT_ROOT_DIR, \"dados\", PROJECT_NUM)\n",
        "os.makedirs(IMAGES_PATH, exist_ok = True)"
      ],
      "metadata": {
        "id": "UYHUjxguUo8l"
      },
      "execution_count": 3,
      "outputs": []
    },
    {
      "cell_type": "code",
      "source": [
        "# Versões dos pacotes usados neste jupyter notebook\n",
        "%reload_ext watermark\n",
        "%watermark -a \"Data Science Academy\" --iversions"
      ],
      "metadata": {
        "colab": {
          "base_uri": "https://localhost:8080/"
        },
        "id": "s1tNrjYVVMJV",
        "outputId": "4cc30b3a-693e-4225-97d8-a4fc460c8290"
      },
      "execution_count": 4,
      "outputs": [
        {
          "output_type": "stream",
          "name": "stdout",
          "text": [
            "Author: Data Science Academy\n",
            "\n",
            "pandas    : 1.5.3\n",
            "keras     : 2.15.0\n",
            "tensorflow: 2.15.0\n",
            "numpy     : 1.25.2\n",
            "matplotlib: 3.7.1\n",
            "\n"
          ]
        }
      ]
    },
    {
      "cell_type": "markdown",
      "source": [
        "## Carregando e preparando os dados"
      ],
      "metadata": {
        "id": "-M8djQegVYGg"
      }
    },
    {
      "cell_type": "markdown",
      "source": [
        "Vamos começar carregando o conjunto de dados Fashion MNIST com artigos de moda masculina e feminina. O Keras possui várias funções para carregar conjuntos de dados populares no `keras.datasets`. O conjunto de dados já está dividido para você entre um conjunto de treinamento e um conjunto de testes, mas pode ser útil dividir ainda mais o conjunto de treinamento para ter um conjunto de validação."
      ],
      "metadata": {
        "id": "Wm4i5Lu6VbOw"
      }
    },
    {
      "cell_type": "code",
      "source": [
        "# Carregando o dataset\n",
        "fashion_mnist = keras.datasets.fashion_mnist"
      ],
      "metadata": {
        "id": "enR_weoyVZjg"
      },
      "execution_count": 5,
      "outputs": []
    },
    {
      "cell_type": "code",
      "source": [
        "# Extraímos os dados de treino e teste\n",
        "(X_treino_full, y_treino_full), (X_teste, y_teste) = fashion_mnist.load_data()"
      ],
      "metadata": {
        "colab": {
          "base_uri": "https://localhost:8080/"
        },
        "id": "veQVPhQ1aD8H",
        "outputId": "dbbb6545-ed2c-4aad-c297-8849e7ce533c"
      },
      "execution_count": 6,
      "outputs": [
        {
          "output_type": "stream",
          "name": "stdout",
          "text": [
            "Downloading data from https://storage.googleapis.com/tensorflow/tf-keras-datasets/train-labels-idx1-ubyte.gz\n",
            "29515/29515 [==============================] - 0s 0us/step\n",
            "Downloading data from https://storage.googleapis.com/tensorflow/tf-keras-datasets/train-images-idx3-ubyte.gz\n",
            "26421880/26421880 [==============================] - 0s 0us/step\n",
            "Downloading data from https://storage.googleapis.com/tensorflow/tf-keras-datasets/t10k-labels-idx1-ubyte.gz\n",
            "5148/5148 [==============================] - 0s 0us/step\n",
            "Downloading data from https://storage.googleapis.com/tensorflow/tf-keras-datasets/t10k-images-idx3-ubyte.gz\n",
            "4422102/4422102 [==============================] - 0s 0us/step\n"
          ]
        }
      ]
    },
    {
      "cell_type": "markdown",
      "source": [
        "O conjunto de treinamento contém 60.000 imagens em escala de cinza, cada uma com 28x28 pixels:"
      ],
      "metadata": {
        "id": "YKTkOe3FaVP2"
      }
    },
    {
      "cell_type": "code",
      "source": [
        "# Shape\n",
        "X_treino_full.shape"
      ],
      "metadata": {
        "colab": {
          "base_uri": "https://localhost:8080/"
        },
        "id": "DyBm-dE8aS3S",
        "outputId": "33e1c722-7de3-44cc-9e63-d9f2b0ea5b1b"
      },
      "execution_count": 7,
      "outputs": [
        {
          "output_type": "execute_result",
          "data": {
            "text/plain": [
              "(60000, 28, 28)"
            ]
          },
          "metadata": {},
          "execution_count": 7
        }
      ]
    },
    {
      "cell_type": "markdown",
      "source": [
        "Cada intensidade de pixel é representada como um byte (0 a 255):"
      ],
      "metadata": {
        "id": "zaULb2b9z_l6"
      }
    },
    {
      "cell_type": "code",
      "source": [
        "# Tipo de dados\n",
        "X_treino_full.dtype"
      ],
      "metadata": {
        "id": "S7oYRVHFaBXt",
        "colab": {
          "base_uri": "https://localhost:8080/"
        },
        "outputId": "0bd7dd16-1bc6-4cb7-f0f6-7c01f7801ac1"
      },
      "execution_count": 9,
      "outputs": [
        {
          "output_type": "execute_result",
          "data": {
            "text/plain": [
              "dtype('uint8')"
            ]
          },
          "metadata": {},
          "execution_count": 9
        }
      ]
    },
    {
      "cell_type": "markdown",
      "source": [
        "Vamos dividir o conjunto de treinamento completo em um conjunto de validação e um conjunto de treinamento (menor). Também dimensionamos as intensidades de pixel para o intervalo de 0-1 (padronização) e as convertemos em float, dividindo por 255."
      ],
      "metadata": {
        "id": "_dP7t53q0Ic0"
      }
    },
    {
      "cell_type": "code",
      "source": [
        "# Preparação dos dados\n",
        "X_valid, X_treino = X_treino_full[:5000] / 255., X_treino_full[5000:] / 255.\n",
        "y_valid, y_treino = y_treino_full[:5000], y_treino_full[5000:]\n",
        "X_teste = X_teste / 255."
      ],
      "metadata": {
        "id": "_IazNh4RVN0I"
      },
      "execution_count": 10,
      "outputs": []
    },
    {
      "cell_type": "markdown",
      "source": [
        "Podemos plotar uma imagem usando a função `imshow ()` do Matplotlib, com um mapa de cores **binary**."
      ],
      "metadata": {
        "id": "wc03pFl-0UPf"
      }
    },
    {
      "cell_type": "code",
      "source": [
        "# Plot de uma imagem\n",
        "plt.imshow(X_treino[2], cmap = \"binary\")\n",
        "plt.axis('off')\n",
        "plt.show()"
      ],
      "metadata": {
        "id": "YIK8YbMjUo_V",
        "colab": {
          "base_uri": "https://localhost:8080/",
          "height": 406
        },
        "outputId": "6989b2e1-fe69-484e-a09f-26d260e1a105"
      },
      "execution_count": 13,
      "outputs": [
        {
          "output_type": "display_data",
          "data": {
            "text/plain": [
              "<Figure size 640x480 with 1 Axes>"
            ],
            "image/png": "[encoded data removed]"
          },
          "metadata": {}
        }
      ]
    },
    {
      "cell_type": "markdown",
      "source": [
        "Os rótulos são os IDs de classe (representados como uint8), de 0 a 9:"
      ],
      "metadata": {
        "id": "cHsgXbT31H6H"
      }
    },
    {
      "cell_type": "code",
      "source": [
        "# Labels (dados de saída) de treino\n",
        "y_treino"
      ],
      "metadata": {
        "colab": {
          "base_uri": "https://localhost:8080/"
        },
        "id": "gG3yU-rU0u_g",
        "outputId": "5278baf4-366d-4ff2-e838-7f37c6daf914"
      },
      "execution_count": 15,
      "outputs": [
        {
          "output_type": "execute_result",
          "data": {
            "text/plain": [
              "array([4, 0, 7, ..., 3, 0, 5], dtype=uint8)"
            ]
          },
          "metadata": {},
          "execution_count": 15
        }
      ]
    },
    {
      "cell_type": "markdown",
      "source": [
        "Aqui estão os nomes de classe correspondentes:"
      ],
      "metadata": {
        "id": "kFgNnBKK1P1B"
      }
    },
    {
      "cell_type": "code",
      "source": [
        "# Nomes das classes\n",
        "nomes_classes = [\"T-shirt/top\",\n",
        "                 \"Trouser\",\n",
        "                 \"Pullover\",\n",
        "                 \"Dress\",\n",
        "                 \"Coat\",\n",
        "                 \"Sandal\",\n",
        "                 \"Shirt\",\n",
        "                 \"Sneaker\",\n",
        "                 \"Bag\",\n",
        "                 \"Ankle boot\"]"
      ],
      "metadata": {
        "id": "MTYx0Uc51L_0"
      },
      "execution_count": 16,
      "outputs": []
    },
    {
      "cell_type": "markdown",
      "source": [
        "Mais detalhes do dataset aqui: https://www.tensorflow.org/datasets/catalog/fashion_mnist"
      ],
      "metadata": {
        "id": "n7ZMMpmn1hGF"
      }
    },
    {
      "cell_type": "markdown",
      "source": [
        "Portanto, a primeira imagem no conjunto de treinamento é um casaco:"
      ],
      "metadata": {
        "id": "Cd_TdWGt1jT5"
      }
    },
    {
      "cell_type": "code",
      "source": [
        "# Nome de classe\n",
        "nomes_classes[y_treino[0]]"
      ],
      "metadata": {
        "colab": {
          "base_uri": "https://localhost:8080/",
          "height": 36
        },
        "id": "5NBuZKEi1jr9",
        "outputId": "bddeaddd-1d0c-445e-bef2-f78dab1169ca"
      },
      "execution_count": 17,
      "outputs": [
        {
          "output_type": "execute_result",
          "data": {
            "text/plain": [
              "'Coat'"
            ],
            "application/vnd.google.colaboratory.intrinsic+json": {
              "type": "string"
            }
          },
          "metadata": {},
          "execution_count": 17
        }
      ]
    },
    {
      "cell_type": "markdown",
      "source": [
        "O conjunto de validação contém 5.000 imagens e o conjunto de testes contém 10.000 imagens:"
      ],
      "metadata": {
        "id": "LDzlcsBk1sIo"
      }
    },
    {
      "cell_type": "code",
      "source": [
        "# Shape\n",
        "X_valid.shape"
      ],
      "metadata": {
        "colab": {
          "base_uri": "https://localhost:8080/"
        },
        "id": "_pFyi51i1scG",
        "outputId": "8f6095f0-b18a-49e2-c864-114ec8f9de4e"
      },
      "execution_count": 19,
      "outputs": [
        {
          "output_type": "execute_result",
          "data": {
            "text/plain": [
              "(5000, 28, 28)"
            ]
          },
          "metadata": {},
          "execution_count": 19
        }
      ]
    },
    {
      "cell_type": "code",
      "source": [
        "# Shape\n",
        "X_teste.shape"
      ],
      "metadata": {
        "colab": {
          "base_uri": "https://localhost:8080/"
        },
        "id": "y65F_jKh1tv0",
        "outputId": "dbf60f61-f39c-48d2-c821-a3e661a098f4"
      },
      "execution_count": 20,
      "outputs": [
        {
          "output_type": "execute_result",
          "data": {
            "text/plain": [
              "(10000, 28, 28)"
            ]
          },
          "metadata": {},
          "execution_count": 20
        }
      ]
    },
    {
      "cell_type": "markdown",
      "source": [
        "Vamos dar uma olhada em uma amostra das imagens no conjunto de dados."
      ],
      "metadata": {
        "id": "yyFvQH1u1xJ9"
      }
    },
    {
      "cell_type": "code",
      "source": [
        "# Função para salvar as imagens\n",
        "def salva_imagem(fig_id, tight_layout = True, fig_extension = \"png\", resolution = 300):\n",
        "    path = os.path.join(IMAGES_PATH, fig_id + \".\" + fig_extension)\n",
        "    print(\"Salvando a imagem...\", fig_id)\n",
        "    if tight_layout:\n",
        "        plt.tight_layout()\n",
        "    plt.savefig(path, format = fig_extension, dpi = resolution)"
      ],
      "metadata": {
        "id": "2L_7V5Ir1xff"
      },
      "execution_count": 21,
      "outputs": []
    },
    {
      "cell_type": "code",
      "source": [
        "# Plot de algumas imagens\n",
        "\n",
        "# Vamos plotar 4 linhas e 10 coluns\n",
        "n_rows = 4\n",
        "n_cols = 10\n",
        "\n",
        "# Área de plotagem\n",
        "plt.figure(figsize=(n_cols * 1.2, n_rows * 1.2))\n",
        "\n",
        "# Loop pelas linhas e colunas\n",
        "for row in range(n_rows):\n",
        "    for col in range(n_cols):\n",
        "        index = n_cols * row + col\n",
        "        plt.subplot(n_rows, n_cols, index + 1)\n",
        "        plt.imshow(X_treino[index], cmap = \"binary\", interpolation = \"nearest\")\n",
        "        plt.axis('off')\n",
        "        plt.title(nomes_classes[y_treino[index]], fontsize = 12)\n",
        "\n",
        "# Ajusta os plots\n",
        "plt.subplots_adjust(wspace = 0.2, hspace = 0.5)\n",
        "\n",
        "# Salva a imagem em disco\n",
        "salva_imagem('plot_fashion_mnist', tight_layout = False)\n",
        "\n",
        "# Mostra a imagem\n",
        "plt.show()"
      ],
      "metadata": {
        "colab": {
          "base_uri": "https://localhost:8080/",
          "height": 446
        },
        "id": "CMoyVL7E11au",
        "outputId": "dfb80ae4-5bda-4d97-a81d-7faca516f99c"
      },
      "execution_count": 22,
      "outputs": [
        {
          "output_type": "stream",
          "name": "stdout",
          "text": [
            "Salvando a imagem... plot_fashion_mnist\n"
          ]
        },
        {
          "output_type": "display_data",
          "data": {
            "text/plain": [
              "<Figure size 1200x480 with 40 Axes>"
            ],
            "image/png": "[encoded data removed]"
          },
          "metadata": {}
        }
      ]
    },
    {
      "cell_type": "markdown",
      "source": [
        "Os dados estão prontos. Vamos construir e treinar o modelo."
      ],
      "metadata": {
        "id": "n4xkbvLp18fg"
      }
    },
    {
      "cell_type": "markdown",
      "source": [
        "## Construção do Modelo"
      ],
      "metadata": {
        "id": "j0o1kUOX9keQ"
      }
    },
    {
      "cell_type": "code",
      "source": [
        "# Modelo de Rede Neural com 2 Camadas Densas\n",
        "\n",
        "# Cria o objeto do tipo sequência\n",
        "modelo = keras.models.Sequential()\n",
        "\n",
        "# Camada para receber os dados de entrada\n",
        "modelo.add(keras.layers.Flatten(input_shape = [28, 28]))\n",
        "\n",
        "# Primeira camada oculta com ativação relu\n",
        "modelo.add(keras.layers.Dense(300, activation = \"relu\"))\n",
        "\n",
        "# Segunda camada oculta com ativação relu\n",
        "modelo.add(keras.layers.Dense(100, activation = \"relu\"))\n",
        "\n",
        "# Camada de saída com ativação softmax\n",
        "# Teremos uma probabilidade prevista para cada classe\n",
        "modelo.add(keras.layers.Dense(10, activation = \"softmax\"))"
      ],
      "metadata": {
        "id": "ViE_UdfL13xb"
      },
      "execution_count": 23,
      "outputs": []
    },
    {
      "cell_type": "code",
      "source": [
        "# Limpamos a sessão Keras e\n",
        "keras.backend.clear_session()"
      ],
      "metadata": {
        "id": "e9vJO6Pt1u3Z"
      },
      "execution_count": 24,
      "outputs": []
    },
    {
      "cell_type": "code",
      "source": [
        "# Camadas do modelo\n",
        "modelo.layers"
      ],
      "metadata": {
        "colab": {
          "base_uri": "https://localhost:8080/"
        },
        "id": "u7DC-gQm1eZE",
        "outputId": "5f59eacb-a758-4e48-d821-490bd1de6cf2"
      },
      "execution_count": 25,
      "outputs": [
        {
          "output_type": "execute_result",
          "data": {
            "text/plain": [
              "[<keras.src.layers.reshaping.flatten.Flatten at 0x7b58eadddd50>,\n",
              " <keras.src.layers.core.dense.Dense at 0x7b58eae0d330>,\n",
              " <keras.src.layers.core.dense.Dense at 0x7b58eae0f1c0>,\n",
              " <keras.src.layers.core.dense.Dense at 0x7b58eae0e8f0>]"
            ]
          },
          "metadata": {},
          "execution_count": 25
        }
      ]
    },
    {
      "cell_type": "code",
      "source": [
        "# Sumário do modelo\n",
        "modelo.summary()"
      ],
      "metadata": {
        "colab": {
          "base_uri": "https://localhost:8080/"
        },
        "id": "UkQUhC-e1Jf7",
        "outputId": "be7cffd6-a965-4e3b-8ea5-9acec2b02f8c"
      },
      "execution_count": 26,
      "outputs": [
        {
          "output_type": "stream",
          "name": "stdout",
          "text": [
            "Model: \"sequential\"\n",
            "_________________________________________________________________\n",
            " Layer (type)                Output Shape              Param #   \n",
            "=================================================================\n",
            " flatten (Flatten)           (None, 784)               0         \n",
            "                                                                 \n",
            " dense (Dense)               (None, 300)               235500    \n",
            "                                                                 \n",
            " dense_1 (Dense)             (None, 100)               30100     \n",
            "                                                                 \n",
            " dense_2 (Dense)             (None, 10)                1010      \n",
            "                                                                 \n",
            "=================================================================\n",
            "Total params: 266610 (1.02 MB)\n",
            "Trainable params: 266610 (1.02 MB)\n",
            "Non-trainable params: 0 (0.00 Byte)\n",
            "_________________________________________________________________\n"
          ]
        }
      ]
    },
    {
      "cell_type": "code",
      "source": [
        "# Vamos criar um plot com o modelo completo e salvar a imagem em disco\n",
        "keras.utils.plot_model(modelo, IMAGES_PATH + \"/modelo_fashion_mnist.png\", show_shapes = True)"
      ],
      "metadata": {
        "colab": {
          "base_uri": "https://localhost:8080/",
          "height": 533
        },
        "id": "o97hhWM51JiY",
        "outputId": "62f03920-3cd4-4997-f441-dd1efd3f80af"
      },
      "execution_count": 27,
      "outputs": [
        {
          "output_type": "execute_result",
          "data": {
            "image/png": "[encoded data removed]",
            "text/plain": [
              "<IPython.core.display.Image object>"
            ]
          },
          "metadata": {},
          "execution_count": 27
        }
      ]
    },
    {
      "cell_type": "code",
      "source": [
        "# Vamos nomear a primeira camada oculta do modelo\n",
        "hidden1 = modelo.layers[1]\n",
        "hidden1.name"
      ],
      "metadata": {
        "colab": {
          "base_uri": "https://localhost:8080/",
          "height": 36
        },
        "id": "7kBWtqUK1JlL",
        "outputId": "103b446e-a367-414d-a922-1d802a8129e9"
      },
      "execution_count": 28,
      "outputs": [
        {
          "output_type": "execute_result",
          "data": {
            "text/plain": [
              "'dense'"
            ],
            "application/vnd.google.colaboratory.intrinsic+json": {
              "type": "string"
            }
          },
          "metadata": {},
          "execution_count": 28
        }
      ]
    },
    {
      "cell_type": "code",
      "source": [
        "# Verificamos se a camada com novo nome existe\n",
        "modelo.get_layer(hidden1.name) is hidden1"
      ],
      "metadata": {
        "colab": {
          "base_uri": "https://localhost:8080/"
        },
        "id": "hXYAj4UW1Jn6",
        "outputId": "22ea4449-7b2e-47c2-d372-747bc98ac73c"
      },
      "execution_count": 29,
      "outputs": [
        {
          "output_type": "execute_result",
          "data": {
            "text/plain": [
              "True"
            ]
          },
          "metadata": {},
          "execution_count": 29
        }
      ]
    },
    {
      "cell_type": "code",
      "source": [
        "# Extraímos pesos e bias da primeira camada oculta\n",
        "weights, biases = hidden1.get_weights()"
      ],
      "metadata": {
        "id": "SGAyTIwT1Jq0"
      },
      "execution_count": 30,
      "outputs": []
    },
    {
      "cell_type": "code",
      "source": [
        "# Pesos que serão usados no começo do treinamento e são gerados de forma aleatória pelo Keras/TensorFlow\n",
        "weights"
      ],
      "metadata": {
        "colab": {
          "base_uri": "https://localhost:8080/"
        },
        "id": "cspJAQc11Jtl",
        "outputId": "b91f3941-ad4a-4ff0-f560-5c8bb4e91778"
      },
      "execution_count": 31,
      "outputs": [
        {
          "output_type": "execute_result",
          "data": {
            "text/plain": [
              "array([[ 5.0839335e-03,  4.3201596e-03, -3.8905181e-02, ...,\n",
              "        -2.0165242e-02,  1.6747795e-02, -2.3504023e-02],\n",
              "       [-2.6822776e-02, -6.1221495e-02, -7.4113190e-02, ...,\n",
              "         3.5125226e-02, -8.0104172e-03, -1.2187004e-02],\n",
              "       [ 5.5903807e-02,  2.9835284e-02,  3.5332814e-02, ...,\n",
              "        -4.4568308e-02, -4.6769630e-02,  7.1467534e-02],\n",
              "       ...,\n",
              "       [-4.4625070e-02,  6.9790646e-02, -1.3578542e-02, ...,\n",
              "        -7.2374195e-04,  5.3243339e-02, -6.2428042e-03],\n",
              "       [-7.3598221e-02, -4.1668683e-02,  4.7086604e-02, ...,\n",
              "         3.0820712e-02,  3.8983881e-02, -1.2524426e-05],\n",
              "       [-1.7465416e-02,  5.7347104e-02,  3.3735394e-02, ...,\n",
              "         4.7790535e-02, -1.8527046e-02, -1.4763907e-02]], dtype=float32)"
            ]
          },
          "metadata": {},
          "execution_count": 31
        }
      ]
    },
    {
      "cell_type": "code",
      "source": [
        "# Shape\n",
        "weights.shape"
      ],
      "metadata": {
        "colab": {
          "base_uri": "https://localhost:8080/"
        },
        "id": "LnEGQSkK1JwR",
        "outputId": "a6b69462-1ffb-442e-e475-ad061d25b987"
      },
      "execution_count": 32,
      "outputs": [
        {
          "output_type": "execute_result",
          "data": {
            "text/plain": [
              "(784, 300)"
            ]
          },
          "metadata": {},
          "execution_count": 32
        }
      ]
    },
    {
      "cell_type": "code",
      "source": [
        "# Bias que serão usados no começo do treinamento\n",
        "biases"
      ],
      "metadata": {
        "colab": {
          "base_uri": "https://localhost:8080/"
        },
        "id": "UNC-SGO31JzA",
        "outputId": "919587b1-2a36-47fd-cf9d-b04ee39afff9"
      },
      "execution_count": 33,
      "outputs": [
        {
          "output_type": "execute_result",
          "data": {
            "text/plain": [
              "array([0., 0., 0., 0., 0., 0., 0., 0., 0., 0., 0., 0., 0., 0., 0., 0., 0.,\n",
              "       0., 0., 0., 0., 0., 0., 0., 0., 0., 0., 0., 0., 0., 0., 0., 0., 0.,\n",
              "       0., 0., 0., 0., 0., 0., 0., 0., 0., 0., 0., 0., 0., 0., 0., 0., 0.,\n",
              "       0., 0., 0., 0., 0., 0., 0., 0., 0., 0., 0., 0., 0., 0., 0., 0., 0.,\n",
              "       0., 0., 0., 0., 0., 0., 0., 0., 0., 0., 0., 0., 0., 0., 0., 0., 0.,\n",
              "       0., 0., 0., 0., 0., 0., 0., 0., 0., 0., 0., 0., 0., 0., 0., 0., 0.,\n",
              "       0., 0., 0., 0., 0., 0., 0., 0., 0., 0., 0., 0., 0., 0., 0., 0., 0.,\n",
              "       0., 0., 0., 0., 0., 0., 0., 0., 0., 0., 0., 0., 0., 0., 0., 0., 0.,\n",
              "       0., 0., 0., 0., 0., 0., 0., 0., 0., 0., 0., 0., 0., 0., 0., 0., 0.,\n",
              "       0., 0., 0., 0., 0., 0., 0., 0., 0., 0., 0., 0., 0., 0., 0., 0., 0.,\n",
              "       0., 0., 0., 0., 0., 0., 0., 0., 0., 0., 0., 0., 0., 0., 0., 0., 0.,\n",
              "       0., 0., 0., 0., 0., 0., 0., 0., 0., 0., 0., 0., 0., 0., 0., 0., 0.,\n",
              "       0., 0., 0., 0., 0., 0., 0., 0., 0., 0., 0., 0., 0., 0., 0., 0., 0.,\n",
              "       0., 0., 0., 0., 0., 0., 0., 0., 0., 0., 0., 0., 0., 0., 0., 0., 0.,\n",
              "       0., 0., 0., 0., 0., 0., 0., 0., 0., 0., 0., 0., 0., 0., 0., 0., 0.,\n",
              "       0., 0., 0., 0., 0., 0., 0., 0., 0., 0., 0., 0., 0., 0., 0., 0., 0.,\n",
              "       0., 0., 0., 0., 0., 0., 0., 0., 0., 0., 0., 0., 0., 0., 0., 0., 0.,\n",
              "       0., 0., 0., 0., 0., 0., 0., 0., 0., 0., 0.], dtype=float32)"
            ]
          },
          "metadata": {},
          "execution_count": 33
        }
      ]
    },
    {
      "cell_type": "code",
      "source": [
        "# Shape\n",
        "biases.shape"
      ],
      "metadata": {
        "colab": {
          "base_uri": "https://localhost:8080/"
        },
        "id": "iCjUKXCQ1J1u",
        "outputId": "6d6a04bf-ad09-463d-bb75-1cbb7bcefdc8"
      },
      "execution_count": 34,
      "outputs": [
        {
          "output_type": "execute_result",
          "data": {
            "text/plain": [
              "(300,)"
            ]
          },
          "metadata": {},
          "execution_count": 34
        }
      ]
    },
    {
      "cell_type": "code",
      "source": [
        "# Agora compilamos o modelo com o otimizador, função de custo e a métrica\n",
        "# https://www.tensorflow.org/api_docs/python/tf/keras/optimizers/SGD\n",
        "# https://www.tensorflow.org/api_docs/python/tf/keras/losses/sparse_categorical_crossentropy\n",
        "modelo.compile(optimizer = \"sgd\", loss = \"sparse_categorical_crossentropy\", metrics = [\"accuracy\"])"
      ],
      "metadata": {
        "id": "eIyVzLzt1J4d"
      },
      "execution_count": 35,
      "outputs": []
    },
    {
      "cell_type": "markdown",
      "source": [
        "Podemos então treinar o modelo."
      ],
      "metadata": {
        "id": "XaIEyUVE--NK"
      }
    },
    {
      "cell_type": "code",
      "source": [
        "# Treinamento\n",
        "history = modelo.fit(X_treino,\n",
        "                     y_treino,\n",
        "                     epochs = 10,\n",
        "                     validation_data = (X_valid, y_valid))"
      ],
      "metadata": {
        "colab": {
          "base_uri": "https://localhost:8080/"
        },
        "id": "M_O3KzDQ1J7D",
        "outputId": "7b379121-0670-4f08-9ca6-081681ebf4ea"
      },
      "execution_count": 37,
      "outputs": [
        {
          "output_type": "stream",
          "name": "stdout",
          "text": [
            "Epoch 1/10\n",
            "1719/1719 [==============================] - 9s 5ms/step - loss: 0.4587 - accuracy: 0.8395 - val_loss: 0.4402 - val_accuracy: 0.8492\n",
            "Epoch 2/10\n",
            "1719/1719 [==============================] - 9s 5ms/step - loss: 0.4266 - accuracy: 0.8504 - val_loss: 0.4019 - val_accuracy: 0.8610\n",
            "Epoch 3/10\n",
            "1719/1719 [==============================] - 9s 5ms/step - loss: 0.4039 - accuracy: 0.8581 - val_loss: 0.4769 - val_accuracy: 0.8234\n",
            "Epoch 4/10\n",
            "1719/1719 [==============================] - 8s 5ms/step - loss: 0.3871 - accuracy: 0.8637 - val_loss: 0.3768 - val_accuracy: 0.8682\n",
            "Epoch 5/10\n",
            "1719/1719 [==============================] - 9s 5ms/step - loss: 0.3739 - accuracy: 0.8697 - val_loss: 0.3633 - val_accuracy: 0.8732\n",
            "Epoch 6/10\n",
            "1719/1719 [==============================] - 9s 5ms/step - loss: 0.3589 - accuracy: 0.8737 - val_loss: 0.3600 - val_accuracy: 0.8756\n",
            "Epoch 7/10\n",
            "1719/1719 [==============================] - 8s 5ms/step - loss: 0.3488 - accuracy: 0.8767 - val_loss: 0.3572 - val_accuracy: 0.8748\n",
            "Epoch 8/10\n",
            "1719/1719 [==============================] - 9s 5ms/step - loss: 0.3390 - accuracy: 0.8804 - val_loss: 0.3769 - val_accuracy: 0.8656\n",
            "Epoch 9/10\n",
            "1719/1719 [==============================] - 9s 5ms/step - loss: 0.3297 - accuracy: 0.8836 - val_loss: 0.3483 - val_accuracy: 0.8738\n",
            "Epoch 10/10\n",
            "1719/1719 [==============================] - 8s 5ms/step - loss: 0.3216 - accuracy: 0.8856 - val_loss: 0.3421 - val_accuracy: 0.8784\n"
          ]
        }
      ]
    },
    {
      "cell_type": "code",
      "source": [
        "#  Hiperparâmetros do modelo\n",
        "history.params"
      ],
      "metadata": {
        "colab": {
          "base_uri": "https://localhost:8080/"
        },
        "id": "ezkzLD_I_Agu",
        "outputId": "9c39b36d-cf2e-4944-c328-33975aa95988"
      },
      "execution_count": 38,
      "outputs": [
        {
          "output_type": "execute_result",
          "data": {
            "text/plain": [
              "{'verbose': 1, 'epochs': 10, 'steps': 1719}"
            ]
          },
          "metadata": {},
          "execution_count": 38
        }
      ]
    },
    {
      "cell_type": "code",
      "source": [
        "# Aqui estão as métricas disponíveis após o treinamento (erro e acurácia)\n",
        "history.history.keys()"
      ],
      "metadata": {
        "colab": {
          "base_uri": "https://localhost:8080/"
        },
        "id": "Q6IEuvXn_AjX",
        "outputId": "06f80015-f9b3-4cdd-fbb1-359abfade38b"
      },
      "execution_count": 39,
      "outputs": [
        {
          "output_type": "execute_result",
          "data": {
            "text/plain": [
              "dict_keys(['loss', 'accuracy', 'val_loss', 'val_accuracy'])"
            ]
          },
          "metadata": {},
          "execution_count": 39
        }
      ]
    },
    {
      "cell_type": "code",
      "source": [
        "# Colocamos o histórico de treinamento em um dataframe, plotamos e salvamos a figura\n",
        "pd.DataFrame(history.history).plot(figsize = (8, 5))\n",
        "plt.grid(True)\n",
        "plt.gca().set_ylim(0, 1)\n",
        "salva_imagem(\"plot_keras_learning_curves\")\n",
        "plt.show()"
      ],
      "metadata": {
        "colab": {
          "base_uri": "https://localhost:8080/",
          "height": 525
        },
        "id": "ggy5ULQL_Amh",
        "outputId": "777a6deb-58d6-46ca-b403-76ec4bffeb5a"
      },
      "execution_count": 40,
      "outputs": [
        {
          "output_type": "stream",
          "name": "stdout",
          "text": [
            "Salvando a imagem... plot_keras_learning_curves\n"
          ]
        },
        {
          "output_type": "display_data",
          "data": {
            "text/plain": [
              "<Figure size 800x500 with 1 Axes>"
            ],
            "image/png": "[encoded data removed]"
          },
          "metadata": {}
        }
      ]
    },
    {
      "cell_type": "markdown",
      "source": [
        "## Avaliando o modelo"
      ],
      "metadata": {
        "id": "rMEEG_3JAHSG"
      }
    },
    {
      "cell_type": "markdown",
      "source": [
        "Depois de treinar, testamos o modelo com dados de teste."
      ],
      "metadata": {
        "id": "lwUBwRgfALYt"
      }
    },
    {
      "cell_type": "code",
      "source": [
        "# Avalia o modelo\n",
        "modelo.evaluate(X_teste, y_teste)"
      ],
      "metadata": {
        "colab": {
          "base_uri": "https://localhost:8080/"
        },
        "id": "sWY6LDx-_ApX",
        "outputId": "5ec02752-07de-4b70-aaf6-e20faa0ed54e"
      },
      "execution_count": 41,
      "outputs": [
        {
          "output_type": "stream",
          "name": "stdout",
          "text": [
            "313/313 [==============================] - 2s 5ms/step - loss: 0.3745 - accuracy: 0.8632\n"
          ]
        },
        {
          "output_type": "execute_result",
          "data": {
            "text/plain": [
              "[0.37451058626174927, 0.8632000088691711]"
            ]
          },
          "metadata": {},
          "execution_count": 41
        }
      ]
    },
    {
      "cell_type": "markdown",
      "source": [
        "Conseguimos mais de 86% de acurácia em teste. Vamos fazer a previsão de algumas imagens."
      ],
      "metadata": {
        "id": "JFOOjQh1AQYh"
      }
    },
    {
      "cell_type": "code",
      "source": [
        "# Vamos extrair 5 imagens de teste\n",
        "X_new = X_teste[:5]"
      ],
      "metadata": {
        "id": "0THCIsYb_AsO"
      },
      "execution_count": 42,
      "outputs": []
    },
    {
      "cell_type": "code",
      "source": [
        "# E então prever a probabilidade de cada classe para cada imagem\n",
        "y_proba = modelo.predict(X_new)"
      ],
      "metadata": {
        "colab": {
          "base_uri": "https://localhost:8080/"
        },
        "id": "cNxUMp0Q_AvV",
        "outputId": "9ddba727-58a5-4b5e-a4ad-b31967754314"
      },
      "execution_count": 43,
      "outputs": [
        {
          "output_type": "stream",
          "name": "stdout",
          "text": [
            "1/1 [==============================] - 0s 222ms/step\n"
          ]
        }
      ]
    },
    {
      "cell_type": "code",
      "source": [
        "# Previsões de probabilidade\n",
        "y_proba"
      ],
      "metadata": {
        "colab": {
          "base_uri": "https://localhost:8080/"
        },
        "id": "4LA40hZx_Ayb",
        "outputId": "3a21d15a-1b2a-46ee-e500-1eab167c65ff"
      },
      "execution_count": 44,
      "outputs": [
        {
          "output_type": "execute_result",
          "data": {
            "text/plain": [
              "array([[1.2343098e-05, 3.6487729e-06, 5.6400153e-05, 4.5585810e-05,\n",
              "        4.0771670e-06, 4.6282824e-02, 1.6011903e-04, 3.5897505e-02,\n",
              "        1.1694427e-03, 9.1636813e-01],\n",
              "       [4.0010946e-05, 2.1987442e-07, 9.9680698e-01, 7.8310279e-07,\n",
              "        3.3298967e-04, 1.6185620e-10, 2.8185898e-03, 5.2011125e-12,\n",
              "        4.1839553e-07, 1.2671617e-10],\n",
              "       [3.4538771e-05, 9.9994838e-01, 2.3477517e-06, 1.0712814e-05,\n",
              "        3.8609005e-06, 1.3818859e-09, 6.5291182e-08, 6.5547061e-09,\n",
              "        8.0330814e-08, 2.1572129e-09],\n",
              "       [9.8693181e-06, 9.9975139e-01, 1.3479291e-05, 2.1480303e-04,\n",
              "        9.3410526e-06, 7.4810849e-08, 6.1038315e-07, 1.2152209e-07,\n",
              "        4.8716846e-08, 2.8934787e-07],\n",
              "       [1.8598641e-01, 9.2033995e-05, 4.9528614e-02, 1.4311216e-03,\n",
              "        1.7649753e-03, 1.8930995e-06, 7.6061881e-01, 4.8012425e-06,\n",
              "        5.5272976e-04, 1.8565659e-05]], dtype=float32)"
            ]
          },
          "metadata": {},
          "execution_count": 44
        }
      ]
    },
    {
      "cell_type": "code",
      "source": [
        "# As previsões de classes são mais fáceis de interpretar\n",
        "y_proba.round(2)"
      ],
      "metadata": {
        "colab": {
          "base_uri": "https://localhost:8080/"
        },
        "id": "6Q5TJ_Vh_A1Y",
        "outputId": "bf0b262b-c19c-491b-ed9e-95ba688443f0"
      },
      "execution_count": 45,
      "outputs": [
        {
          "output_type": "execute_result",
          "data": {
            "text/plain": [
              "array([[0.  , 0.  , 0.  , 0.  , 0.  , 0.05, 0.  , 0.04, 0.  , 0.92],\n",
              "       [0.  , 0.  , 1.  , 0.  , 0.  , 0.  , 0.  , 0.  , 0.  , 0.  ],\n",
              "       [0.  , 1.  , 0.  , 0.  , 0.  , 0.  , 0.  , 0.  , 0.  , 0.  ],\n",
              "       [0.  , 1.  , 0.  , 0.  , 0.  , 0.  , 0.  , 0.  , 0.  , 0.  ],\n",
              "       [0.19, 0.  , 0.05, 0.  , 0.  , 0.  , 0.76, 0.  , 0.  , 0.  ]],\n",
              "      dtype=float32)"
            ]
          },
          "metadata": {},
          "execution_count": 45
        }
      ]
    },
    {
      "cell_type": "code",
      "source": [
        "# # Vamos gravar as previsões das 5 imagens\n",
        "# y_pred = modelo.predict_classes(X_new)\n",
        "# y_pred"
      ],
      "metadata": {
        "colab": {
          "base_uri": "https://localhost:8080/"
        },
        "id": "X2pyfX_l_A4L",
        "outputId": "12033854-b32f-4f88-d648-d17700b273c0"
      },
      "execution_count": 48,
      "outputs": [
        {
          "output_type": "stream",
          "name": "stdout",
          "text": [
            "1/1 [==============================] - 0s 53ms/step\n"
          ]
        },
        {
          "output_type": "execute_result",
          "data": {
            "text/plain": [
              "array([[1.2343098e-05, 3.6487729e-06, 5.6400153e-05, 4.5585810e-05,\n",
              "        4.0771670e-06, 4.6282824e-02, 1.6011903e-04, 3.5897505e-02,\n",
              "        1.1694427e-03, 9.1636813e-01],\n",
              "       [4.0010946e-05, 2.1987442e-07, 9.9680698e-01, 7.8310279e-07,\n",
              "        3.3298967e-04, 1.6185620e-10, 2.8185898e-03, 5.2011125e-12,\n",
              "        4.1839553e-07, 1.2671617e-10],\n",
              "       [3.4538771e-05, 9.9994838e-01, 2.3477517e-06, 1.0712814e-05,\n",
              "        3.8609005e-06, 1.3818859e-09, 6.5291182e-08, 6.5547061e-09,\n",
              "        8.0330814e-08, 2.1572129e-09],\n",
              "       [9.8693181e-06, 9.9975139e-01, 1.3479291e-05, 2.1480303e-04,\n",
              "        9.3410526e-06, 7.4810849e-08, 6.1038315e-07, 1.2152209e-07,\n",
              "        4.8716846e-08, 2.8934787e-07],\n",
              "       [1.8598641e-01, 9.2033995e-05, 4.9528614e-02, 1.4311216e-03,\n",
              "        1.7649753e-03, 1.8930995e-06, 7.6061881e-01, 4.8012425e-06,\n",
              "        5.5272976e-04, 1.8565659e-05]], dtype=float32)"
            ]
          },
          "metadata": {},
          "execution_count": 48
        }
      ]
    },
    {
      "cell_type": "code",
      "source": [
        "# E então extraímos os nomes das classes associados a cada previsão\n",
        "np.array(nomes_classes)[y_pred]"
      ],
      "metadata": {
        "id": "zQ62k9uJUpE-",
        "colab": {
          "base_uri": "https://localhost:8080/",
          "height": 166
        },
        "outputId": "c16fa163-11cf-4357-c9b6-50594295fb54"
      },
      "execution_count": 49,
      "outputs": [
        {
          "output_type": "error",
          "ename": "IndexError",
          "evalue": "arrays used as indices must be of integer (or boolean) type",
          "traceback": [
            "\u001b[0;31m---------------------------------------------------------------------------\u001b[0m",
            "\u001b[0;31mIndexError\u001b[0m                                Traceback (most recent call last)",
            "\u001b[0;32m<ipython-input-49-53333a332ce8>\u001b[0m in \u001b[0;36m<cell line: 2>\u001b[0;34m()\u001b[0m\n\u001b[1;32m      1\u001b[0m \u001b[0;31m# E então extraímos os nomes das classes associados a cada previsão\u001b[0m\u001b[0;34m\u001b[0m\u001b[0;34m\u001b[0m\u001b[0m\n\u001b[0;32m----> 2\u001b[0;31m \u001b[0mnp\u001b[0m\u001b[0;34m.\u001b[0m\u001b[0marray\u001b[0m\u001b[0;34m(\u001b[0m\u001b[0mnomes_classes\u001b[0m\u001b[0;34m)\u001b[0m\u001b[0;34m[\u001b[0m\u001b[0my_pred\u001b[0m\u001b[0;34m]\u001b[0m\u001b[0;34m\u001b[0m\u001b[0;34m\u001b[0m\u001b[0m\n\u001b[0m",
            "\u001b[0;31mIndexError\u001b[0m: arrays used as indices must be of integer (or boolean) type"
          ]
        }
      ]
    },
    {
      "cell_type": "markdown",
      "source": [
        "Vamos plotar as previsões."
      ],
      "metadata": {
        "id": "ox9Suzc3AvPZ"
      }
    },
    {
      "cell_type": "code",
      "source": [
        "# Plot\n",
        "plt.figure(figsize = (8, 5))\n",
        "for index, image in enumerate(X_new):\n",
        "    plt.subplot(1, 5, index + 1)\n",
        "    plt.imshow(image, cmap = \"binary\", interpolation = \"nearest\")\n",
        "    plt.axis('off')\n",
        "    plt.title(nomes_classes[y_teste[index]], fontsize = 12)\n",
        "plt.subplots_adjust(wspace = 0.2, hspace = 0.5)\n",
        "salva_imagem('plot_previsoes_fashion_mnist_images', tight_layout = False)\n",
        "plt.show()"
      ],
      "metadata": {
        "colab": {
          "base_uri": "https://localhost:8080/",
          "height": 184
        },
        "id": "8KJr6DedAwaB",
        "outputId": "809986bd-2474-43e1-b032-a186df8629ae"
      },
      "execution_count": 50,
      "outputs": [
        {
          "output_type": "stream",
          "name": "stdout",
          "text": [
            "Salvando a imagem... plot_previsoes_fashion_mnist_images\n"
          ]
        },
        {
          "output_type": "display_data",
          "data": {
            "text/plain": [
              "<Figure size 800x500 with 5 Axes>"
            ],
            "image/png": "[encoded data removed]"
          },
          "metadata": {}
        }
      ]
    },
    {
      "cell_type": "code",
      "source": [],
      "metadata": {
        "id": "8hnf5Gy_Ayy7"
      },
      "execution_count": null,
      "outputs": []
    }
  ]
}